{
 "cells": [
  {
   "cell_type": "markdown",
   "metadata": {},
   "source": [
    "![logo sorbonne universite](rough_interface/logo_sorbonne2.png)\n",
    "# Modélisation de la réflexion d'une onde à une interface rugueuse\n",
    "## Avancement de l'étude"
   ]
  },
  {
   "cell_type": "markdown",
   "metadata": {},
   "source": [
    "Dans ce notebook sera consigné quelques résultats obtenus pour le projet de modélisation de la réflexion d'une onde à une interface rugueuse. Ce notebook peut également servir d'aide à la compréhension de l'utilisation de la classe *RoughInterfaceScattering*"
   ]
  },
  {
   "cell_type": "markdown",
   "metadata": {},
   "source": [
    "On importe les librairies nécessaires"
   ]
  },
  {
   "cell_type": "code",
   "execution_count": null,
   "metadata": {},
   "outputs": [],
   "source": [
    "import rough_interface as ri\n",
    "import numpy as np\n",
    "from scipy.optimize import minimize as mini\n",
    "import matplotlib.pyplot as plt\n",
    "%matplotlib inline"
   ]
  },
  {
   "cell_type": "code",
   "execution_count": null,
   "metadata": {},
   "outputs": [],
   "source": [
    "cart_real = lambda p,pb: plt.imshow(np.real(p.reshape([pb.res,pb.res])),\\\n",
    "                               origin='lower',vmin=-pb.amplitude,vmax=pb.amplitude,\\\n",
    "                               extent = pb.extent,interpolation='bicubic',cmap='RdBu')\n",
    "\n",
    "cart_abs = lambda p,pb: plt.imshow(abs(p.reshape([pb.res,pb.res])),\\\n",
    "                               origin='lower',vmin=0,vmax=pb.amplitude,\\\n",
    "                               extent = pb.extent,interpolation='bicubic')"
   ]
  },
  {
   "cell_type": "code",
   "execution_count": null,
   "metadata": {},
   "outputs": [],
   "source": [
    "pb = ri.RoughInterfaceScattering()"
   ]
  },
  {
   "cell_type": "markdown",
   "metadata": {},
   "source": [
    "# Convergence du schéma en fonction de $N$\n",
    "Cette partie est destinée à étudier la convergence du schéma en fonction du paramètre $N$.\n",
    "On pour cela créer une interface plane de longueur 10m, et augmenter le nombre points au fur et à mesure."
   ]
  },
  {
   "cell_type": "code",
   "execution_count": null,
   "metadata": {},
   "outputs": [],
   "source": [
    "rms = lambda x: np.sqrt(np.mean(np.power(x,2)))"
   ]
  },
  {
   "cell_type": "code",
   "execution_count": null,
   "metadata": {
    "scrolled": true
   },
   "outputs": [],
   "source": [
    "from time import time\n",
    "\n",
    "pb.create_interface('s_unique',0,1,2,5)\n",
    "pb.set_source('ponctuelle',[0,3])\n",
    "pb.set_frequency(200)\n",
    "pb.set_omega([-5,5,-5,5],100,.2)\n",
    "pb.set_circle(2,[0,0])\n",
    "\n",
    "simulation = [pb.start()[0]]\n",
    "duration = []\n",
    "\n",
    "N = np.linspace(5,500,30)\n",
    "\n",
    "for i,n in enumerate(N):\n",
    "    start = time()\n",
    "    n = int(n)\n",
    "    print n\n",
    "    pb.create_interface('s_unique',0,1,n,5)\n",
    "    simulation.append(pb.start(quiet=True)[0])\n",
    "    duration.append(time()-start)\n",
    "    "
   ]
  },
  {
   "cell_type": "code",
   "execution_count": null,
   "metadata": {},
   "outputs": [],
   "source": [
    "convergence = []\n",
    "for i in range(len(simulation)-1):\n",
    "    convergence.append(rms(abs(simulation[i]-simulation[i+1]))/rms(abs(simulation[i])))\n",
    "convergence = np.asarray(convergence)"
   ]
  },
  {
   "cell_type": "code",
   "execution_count": null,
   "metadata": {},
   "outputs": [],
   "source": [
    "plt.plot(N*1.7/10.,100*convergence,'r')\n",
    "plt.xlabel('Nombre de points par longueur d\\'onde')\n",
    "plt.ylabel('Erreur (%)')\n",
    "plt.yscale('log')\n",
    "plt.grid()\n",
    "plt.savefig('convergence.eps')\n",
    "plt.show()\n",
    "\n",
    "plt.plot(N*1.7/10.,duration,'b')\n",
    "plt.xlabel('Nombre de points par longueur d\\'onde')\n",
    "plt.ylabel('Temps de calcul (s)')\n",
    "plt.grid()\n",
    "plt.savefig('temps.eps')\n",
    "plt.show()"
   ]
  },
  {
   "cell_type": "markdown",
   "metadata": {},
   "source": [
    "# Photo de couverture\n",
    "On cherche à obtenir une jolie cartographie de pression\n",
    "\n"
   ]
  },
  {
   "cell_type": "code",
   "execution_count": null,
   "metadata": {},
   "outputs": [],
   "source": [
    "pb.create_interface('s_aleatoire',2,1.5,200,10)\n",
    "pb.set_source('ponctuelle',[0,5])\n",
    "pb.set_frequency(200)\n",
    "pb.set_omega([-12,12,-2,22],200,.2)\n",
    "pb.set_circle(2,[2,2])\n",
    "p,d = pb.start(quiet=False)"
   ]
  },
  {
   "cell_type": "code",
   "execution_count": null,
   "metadata": {},
   "outputs": [],
   "source": [
    "cart_real(p,pb)\n",
    "plt.savefig('joli.eps')"
   ]
  },
  {
   "cell_type": "markdown",
   "metadata": {},
   "source": [
    "# Réflexion non classique\n",
    "On remarque que lorsque on utilise une interface sinusoidale avec un certain jeu de paramètres (voir ci dessous), on obtient des couloirs dans l'amplitude de l'onde réfléchie."
   ]
  },
  {
   "cell_type": "code",
   "execution_count": null,
   "metadata": {},
   "outputs": [],
   "source": [
    "import rough_interface as ri\n",
    "pb = ri.RoughInterfaceScattering()\n",
    "pb.create_interface('s_aleatoire',1.5 ,.5,500 ,5)\n",
    "pb.set_source('ponctuelle',[0,5])\n",
    "pb.set_frequency(200)\n",
    "pb.set_omega([-5,5,-2,7],150 ,.2)\n",
    "pb.set_circle(2,[0,0])\n",
    "p,d = pb.start()"
   ]
  },
  {
   "cell_type": "code",
   "execution_count": null,
   "metadata": {
    "scrolled": false
   },
   "outputs": [],
   "source": [
    "pb.create_interface('s_sinusoidale',.30,1.7,1500,50)\n",
    "pb.set_source('plane',[0,5])\n",
    "pb.set_frequency(200)\n",
    "pb.set_omega([-5,5,-2,7],150,2)\n",
    "pb.set_circle(2,[0,0])\n",
    "pb.set_angle(30*3.14/180)\n",
    "\n",
    "p,d = pb.start()"
   ]
  },
  {
   "cell_type": "markdown",
   "metadata": {},
   "source": [
    "**On cherche à identifier le nombre d'onde**"
   ]
  },
  {
   "cell_type": "code",
   "execution_count": null,
   "metadata": {},
   "outputs": [],
   "source": [
    "p = p.reshape([pb.res,pb.res])"
   ]
  },
  {
   "cell_type": "code",
   "execution_count": null,
   "metadata": {
    "scrolled": false
   },
   "outputs": [],
   "source": [
    "ligne = np.real(p[75,:])*np.hanning(150)\n",
    "plt.plot(ligne)\n",
    "plt.title('Periodicite de la reflexion')\n",
    "plt.grid()\n",
    "plt.xlabel('Position (m)')\n",
    "plt.ylabel('Amplitude (u/a)')\n",
    "plt.show()\n",
    "\n",
    "fs = 15\n",
    "Nfft = 8192\n",
    "\n",
    "l_ = np.fft.fft(ligne,Nfft)\n",
    "f = np.linspace(0,fs,Nfft)\n",
    "\n",
    "\n",
    "plt.plot(f,20*np.log10(abs(l_)))\n",
    "plt.xlim([0,fs/2.])\n",
    "plt.grid()\n",
    "plt.title('Spectre de la reflexion')\n",
    "plt.xlabel('Frequence spatiale')\n",
    "plt.ylabel('Amplitude')\n",
    "plt.show()\n",
    "\n",
    "kx = f[np.argmax(abs(l_[0:Nfft/2]))]\n",
    "\n",
    "print('Nombre d\\'onde: {}'.format(kx))\n",
    "\n",
    "lam_assoc = 1/kx\n",
    "\n",
    "print('Longueur d\\'onde: {}'.format(lam_assoc))\n",
    "\n",
    "tetha = np.arcsin(340.*kx/pb.omega)\n",
    "\n",
    "print tetha*180/3.14"
   ]
  },
  {
   "cell_type": "markdown",
   "metadata": {},
   "source": [
    "# Hypothèse onde plane\n",
    "**On rapppele le critère de Rayleigh:**\n",
    "\\begin{align}\n",
    "\\sigma \\cos (\\theta) &< \\frac{\\lambda}{8} \\\\\n",
    "\\gamma \\cos (\\theta) &< \\frac{\\lambda}{8}\n",
    "\\end{align}\n",
    "\n",
    "**Le critère de Rayleigh n'est pas une valeur intrinsèque, une interface peut être lisse pour une fréquence et un angle donné, et rugueux pour un autre couple de paramètres.**\n",
    "\n",
    "*Attention, dans cette partie, le nombre d'élément est grand ($\\approx 1500$) et donc peut conduire à des temps de calcul assez longs*\n",
    "\n",
    "On se place dans le cadre d'une interface *aléatoire*."
   ]
  },
  {
   "cell_type": "code",
   "execution_count": null,
   "metadata": {},
   "outputs": [],
   "source": [
    "lam = 340/pb.f\n",
    "\n",
    "pb.create_interface('s_aleatoire',.4*lam,.4*lam,1500,30)\n",
    "pb.set_omega([-5,5,-2,7],150,2)\n",
    "p,d = pb.start(quiet = True)"
   ]
  },
  {
   "cell_type": "markdown",
   "metadata": {},
   "source": [
    "On affiche la cartographie de pression."
   ]
  },
  {
   "cell_type": "code",
   "execution_count": null,
   "metadata": {},
   "outputs": [],
   "source": [
    "cart_real(p,pb)\n",
    "plt.title('Cartographie de la pression rayonnee')\n",
    "plt.show()"
   ]
  },
  {
   "cell_type": "markdown",
   "metadata": {},
   "source": [
    "On voit qu'il y a a peu près un comportement d'onde plane très bruité, on va chercher à quantifier à quel point. Pour ce faire, on va calculer le cas idéal d'une onde réfléchie plane."
   ]
  },
  {
   "cell_type": "code",
   "execution_count": null,
   "metadata": {},
   "outputs": [],
   "source": [
    "pb.create_interface('s_aleatoire',0,1,1500,30)\n",
    "p_ref,d = pb.start(quiet=True)\n",
    "cart_real(p_ref,pb)\n",
    "plt.title('Cartographie de la pression de reference')\n",
    "plt.show()"
   ]
  },
  {
   "cell_type": "markdown",
   "metadata": {},
   "source": [
    "Pour objectivement comparer les deux cartographies, on va calculer l'écart entre les deux pour chaque point au dessus de l'interface."
   ]
  },
  {
   "cell_type": "code",
   "execution_count": null,
   "metadata": {},
   "outputs": [],
   "source": [
    "def calcul_erreur(p,p_ref,crop):\n",
    "    \"\"\"Fonction qui à deux cartographies données renvoie la valeur RMS de l'erreur entre\n",
    "    leur différence.\"\"\"\n",
    "    p_c = p.reshape([pb.res,pb.res])[crop:,:] #On reshape et on crop les cartographies\n",
    "    p_ref_c = p_ref.reshape([pb.res,pb.res])[crop:,:]\n",
    "\n",
    "    rms = lambda x:np.sqrt(np.mean(np.power(x,2))) #Création d'un shortcut RMS\n",
    "    erreur = lambda x,y: rms(abs(y-x))/rms(abs(x)) #Création d'un shortcut ERREUR\n",
    "    coef = mini(lambda a: erreur(p_ref_c,a*p_c),1).x[0] #Minimisation de l'erreur pour coef\n",
    "\n",
    "    print('On obtient une erreur de {0}%, a={1:.2f}'.\\\n",
    "          format(int(100*erreur(p_ref_c,coef*p_c)),coef))\n",
    "    if pb.rms*np.cos(pb.angle) < lam/8.:\n",
    "        print('Surface lisse au sens de Rayleigh')\n",
    "    else:\n",
    "        print('Surface rugueuse au sens de Rayleigh')"
   ]
  },
  {
   "cell_type": "code",
   "execution_count": null,
   "metadata": {},
   "outputs": [],
   "source": [
    "calcul_erreur(p,p_ref,35)"
   ]
  },
  {
   "cell_type": "markdown",
   "metadata": {},
   "source": [
    "Pour une interface présentant une rugosité de taille $0.4\\lambda$, on obtient une onde réfléchie plane à $\\approx5\\%$, et rugueuse au sens de Rayleigh. On va diminuer la taille de la rugosité à $0.1\\lambda$."
   ]
  },
  {
   "cell_type": "code",
   "execution_count": null,
   "metadata": {},
   "outputs": [],
   "source": [
    "pb.create_interface('s_aleatoire',.1*lam,.1*lam,1500,30)\n",
    "p,d = pb.start(quiet=True)"
   ]
  },
  {
   "cell_type": "code",
   "execution_count": null,
   "metadata": {},
   "outputs": [],
   "source": [
    "calcul_erreur(p,p_ref,35)"
   ]
  },
  {
   "cell_type": "markdown",
   "metadata": {},
   "source": [
    "Pour une interface présentant des rugosités de l'ordre de $0.1\\lambda$, on arrive à une onde réfléchie qui est à $\\approx 70\\%$ plane. On passe à $0.05\\lambda$."
   ]
  },
  {
   "cell_type": "code",
   "execution_count": null,
   "metadata": {},
   "outputs": [],
   "source": [
    "pb.create_interface('s_aleatoire',.05*lam,.05*lam,1500,30)\n",
    "p,d = pb.start(quiet=True)\n",
    "calcul_erreur(p,p_ref,35)"
   ]
  },
  {
   "cell_type": "markdown",
   "metadata": {},
   "source": [
    "Pour une interface présentant des rugosités de l'ordre de $0.05\\lambda$, on obtient une onde réfléchie plane à $\\approx 80\\%$. On passe à $0.02\\lambda$."
   ]
  },
  {
   "cell_type": "code",
   "execution_count": null,
   "metadata": {},
   "outputs": [],
   "source": [
    "pb.create_interface('s_aleatoire',.02*lam,.02*lam,1500,30)\n",
    "p,d = pb.start(quiet=True)\n",
    "calcul_erreur(p,p_ref,35)"
   ]
  },
  {
   "cell_type": "markdown",
   "metadata": {},
   "source": [
    "Ici, on obtient une onde réfléchie plane à $\\approx 95\\%$. Le premier ressenti provenant de ces résultats et que le critère de Rayleigh est bien représentatif pour une interface aléatoire"
   ]
  }
 ],
 "metadata": {
  "kernelspec": {
   "display_name": "Python 2",
   "language": "python",
   "name": "python2"
  },
  "language_info": {
   "codemirror_mode": {
    "name": "ipython",
    "version": 2
   },
   "file_extension": ".py",
   "mimetype": "text/x-python",
   "name": "python",
   "nbconvert_exporter": "python",
   "pygments_lexer": "ipython2",
   "version": "2.7.14"
  }
 },
 "nbformat": 4,
 "nbformat_minor": 2
}
