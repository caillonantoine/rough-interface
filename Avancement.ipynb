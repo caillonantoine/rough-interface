{
 "cells": [
  {
   "cell_type": "markdown",
   "metadata": {},
   "source": [
    "![logo sorbonne universite](rough_interface/logo_sorbonne2.png)\n",
    "# Modélisation de la réflexion d'une onde à une interface rugueuse\n",
    "## Avancement de l'étude"
   ]
  },
  {
   "cell_type": "markdown",
   "metadata": {},
   "source": [
    "Dans ce notebook sera consigné quelques résultats obtenus pour le projet de modélisation de la réflexion d'une onde à une interface rugueuse. Ce notebook peut également servir d'aide à la compréhension de l'utilisation de la classe *RoughInterfaceScattering*"
   ]
  },
  {
   "cell_type": "markdown",
   "metadata": {},
   "source": [
    "On importe les librairies nécessaires"
   ]
  },
  {
   "cell_type": "code",
   "execution_count": 1,
   "metadata": {},
   "outputs": [],
   "source": [
    "import rough_interface as ri\n",
    "from rough_interface.timeit import ProgressBar\n",
    "import numpy as np\n",
    "from scipy.optimize import minimize as mini\n",
    "from scipy.io import loadmat\n",
    "import matplotlib.pyplot as plt\n",
    "%matplotlib inline"
   ]
  },
  {
   "cell_type": "code",
   "execution_count": 2,
   "metadata": {},
   "outputs": [],
   "source": [
    "cart_real = lambda p,pb: plt.imshow(np.real(p.reshape([pb.res,pb.res])),\\\n",
    "                               origin='lower',vmin=-pb.amplitude,vmax=pb.amplitude,\\\n",
    "                               extent = pb.extent,interpolation='bicubic',cmap='RdBu')\n",
    "\n",
    "cart_abs = lambda p,pb: plt.imshow(abs(p.reshape([pb.res,pb.res])),\\\n",
    "                               origin='lower',vmin=0,vmax=pb.amplitude,\\\n",
    "                               extent = pb.extent,interpolation='bicubic',cmap='afmhot')"
   ]
  },
  {
   "cell_type": "code",
   "execution_count": 3,
   "metadata": {},
   "outputs": [],
   "source": [
    "pb = ri.RoughInterfaceScattering()"
   ]
  },
  {
   "cell_type": "code",
   "execution_count": 4,
   "metadata": {},
   "outputs": [],
   "source": [
    "rms = lambda x: np.sqrt(np.mean(np.power(x,2)))"
   ]
  },
  {
   "cell_type": "markdown",
   "metadata": {},
   "source": [
    "# Convergence du schéma en fonction de $N$\n",
    "Cette partie est destinée à étudier la convergence du schéma en fonction du paramètre $N$.\n",
    "On pour cela créer une interface plane de longueur 10m, et augmenter le nombre points au fur et à mesure."
   ]
  },
  {
   "cell_type": "code",
   "execution_count": null,
   "metadata": {
    "scrolled": false
   },
   "outputs": [],
   "source": [
    "from time import time\n",
    "\n",
    "pb.create_interface('s_unique',0,1,2,5)\n",
    "pb.set_source('ponctuelle',[0,3])\n",
    "pb.set_frequency(200)\n",
    "pb.set_omega([-5,5,-5,5],100,.2)\n",
    "pb.set_circle(2,[0,0])\n",
    "\n",
    "simulation = [pb.start()[0]]\n",
    "duration = []\n",
    "\n",
    "N = np.linspace(5,500,30)\n",
    "\n",
    "for i,n in enumerate(N):\n",
    "    start = time()\n",
    "    n = int(n)\n",
    "    print n\n",
    "    pb.create_interface('s_unique',0,1,n,5)\n",
    "    simulation.append(pb.start(quiet=True)[0])\n",
    "    duration.append(time()-start)\n",
    "    "
   ]
  },
  {
   "cell_type": "code",
   "execution_count": null,
   "metadata": {},
   "outputs": [],
   "source": [
    "convergence = []\n",
    "for i in range(len(simulation)-1):\n",
    "    convergence.append(rms(abs(simulation[i]-simulation[i+1]))/rms(abs(simulation[i])))\n",
    "convergence = np.asarray(convergence)"
   ]
  },
  {
   "cell_type": "code",
   "execution_count": null,
   "metadata": {},
   "outputs": [],
   "source": [
    "plt.plot(N*1.7/10.,100*convergence,'r')\n",
    "plt.xlabel('Nombre de points par longueur d\\'onde')\n",
    "plt.ylabel('Erreur (%)')\n",
    "plt.yscale('log')\n",
    "plt.grid()\n",
    "plt.savefig('convergence.eps')\n",
    "plt.show()\n",
    "\n",
    "plt.plot(N*1.7/10.,duration,'b')\n",
    "plt.xlabel('Nombre de points par longueur d\\'onde')\n",
    "plt.ylabel('Temps de calcul (s)')\n",
    "plt.grid()\n",
    "plt.savefig('temps.eps')\n",
    "plt.show()"
   ]
  },
  {
   "cell_type": "markdown",
   "metadata": {},
   "source": [
    "# Caractérisation de la rugosité\n",
    "Dans cette partie on cherche à montrer l'influence de la rugosité sur la réflexion"
   ]
  },
  {
   "cell_type": "code",
   "execution_count": 5,
   "metadata": {},
   "outputs": [],
   "source": [
    "pb = ri.RoughInterfaceScattering()\n",
    "\n",
    "pb.set_source('plane',[0,5])\n",
    "pb.set_angle(np.pi/3.)\n",
    "pb.set_omega([-5,5,-1,9],150,2)\n",
    "pb.set_circle(2,[0,0])\n",
    "pb.set_frequency(200)"
   ]
  },
  {
   "cell_type": "code",
   "execution_count": 6,
   "metadata": {},
   "outputs": [
    {
     "name": "stdout",
     "output_type": "stream",
     "text": [
      "Taille de rugosité = 0.17\n"
     ]
    }
   ],
   "source": [
    "f_ref = 2000 #On fixe une taille de rugosité comparable à la longueur d'onde pour f= 1000Hz\n",
    "taille = 340/float(f_ref)\n",
    "print \"Taille de rugosité = {}\".format(taille)"
   ]
  },
  {
   "cell_type": "code",
   "execution_count": 7,
   "metadata": {},
   "outputs": [
    {
     "name": "stdout",
     "output_type": "stream",
     "text": [
      "[  20.           23.44204595   27.47647592   32.20524055   37.74783644\n",
      "   44.24432582   51.85887595   60.78390765   71.24495781   83.50637873\n",
      "   97.87801837  114.72305021  134.46715073  157.60925631  184.73417144\n",
      "  216.52734677  253.79220063  297.47042146  348.66576444  408.67194357\n",
      "  479.005324    561.44324079  658.06891246  771.32408423  904.07073127\n",
      " 1059.66338126 1242.03388378 1455.7907688  1706.33570483 2000.        ]\n"
     ]
    }
   ],
   "source": [
    "frequences = 2*np.logspace(1,3,30)\n",
    "#frequences = np.linspace(1000,5000,5)\n",
    "#frequences = np.logspace(3,np.log10(6000),20)\n",
    "#frequences = [2000,3000]\n",
    "frequences = np.asarray(frequences)\n",
    "print frequences\n",
    "\n",
    "progress = ProgressBar()\n",
    "\n",
    "\n",
    "pb.create_interface('s_sinusoidale',0,taille,1500,15)\n",
    "#pb.start()"
   ]
  },
  {
   "cell_type": "code",
   "execution_count": 8,
   "metadata": {
    "scrolled": true
   },
   "outputs": [
    {
     "name": "stdout",
     "output_type": "stream",
     "text": [
      "03%\n",
      "06%\n",
      "10%\n",
      "13%\n",
      "16%\n",
      "20%\n",
      "23%\n",
      "26%\n",
      "30%\n",
      "33%\n",
      "36%\n",
      "40%\n",
      "43%\n",
      "46%\n",
      "50%\n",
      "53%\n",
      "56%\n",
      "60%\n",
      "63%\n",
      "66%\n",
      "70%\n",
      "73%\n",
      "76%\n",
      "80%\n",
      "83%\n",
      "86%\n",
      "90%\n",
      "93%\n",
      "96%\n"
     ]
    }
   ],
   "source": [
    "ref = []\n",
    "progress.set_total(len(frequences))\n",
    "\n",
    "#On calcule les références\n",
    "for i,f in enumerate(frequences):\n",
    "    progress.set_current(i)\n",
    "    pb.set_frequency(f)\n",
    "    ref.append(pb.start(quiet=True)[0])"
   ]
  },
  {
   "cell_type": "code",
   "execution_count": 9,
   "metadata": {
    "scrolled": true
   },
   "outputs": [
    {
     "name": "stdout",
     "output_type": "stream",
     "text": [
      "00%\n",
      "03%\n",
      "06%\n",
      "10%\n",
      "13%\n",
      "16%\n",
      "20%\n",
      "23%\n",
      "26%\n",
      "30%\n",
      "33%\n",
      "36%\n",
      "40%\n",
      "43%\n",
      "46%\n",
      "50%\n",
      "53%\n",
      "56%\n",
      "60%\n",
      "63%\n",
      "66%\n",
      "70%\n",
      "73%\n",
      "76%\n",
      "80%\n",
      "83%\n",
      "86%\n",
      "90%\n",
      "93%\n",
      "96%\n"
     ]
    }
   ],
   "source": [
    "sim = []\n",
    "pb.create_interface('s_sinusoidale',taille,taille,1500,15)\n",
    "\n",
    "progress.reset()\n",
    "progress.set_total(len(frequences))\n",
    "#On calcule les simulations\n",
    "for i,f in enumerate(frequences):\n",
    "    progress.set_current(i)\n",
    "    pb.set_frequency(f)\n",
    "    sim.append(pb.start(quiet=True)[0])"
   ]
  },
  {
   "cell_type": "code",
   "execution_count": 10,
   "metadata": {},
   "outputs": [
    {
     "data": {
      "text/plain": [
       "1414.582160453407"
      ]
     },
     "execution_count": 10,
     "metadata": {},
     "output_type": "execute_result"
    }
   ],
   "source": [
    "lam = 340/frequences\n",
    "rayleigh = list(pb.rms * np.cos(pb.angle) < lam/8.).index(False)\n",
    "critere = 340/(8*pb.rms*np.cos(pb.angle))\n",
    "critere"
   ]
  },
  {
   "cell_type": "code",
   "execution_count": 11,
   "metadata": {},
   "outputs": [],
   "source": [
    "diff = []\n",
    "alpha = []\n",
    "sim = np.asarray(sim)\n",
    "ref = np.asarray(ref)\n",
    "\n",
    "erreur = lambda x,y: rms(abs(x-y))/rms(abs(x)) #Création d'un shortcut ERREUR\n",
    "arr2cmplx = lambda x: x[0] + 1j*x[1]\n",
    "\n",
    "\n",
    "for i in range(len(ref)):\n",
    "    r = ref[i].reshape([150,150])[35:,:]\n",
    "    s = sim[i].reshape([150,150])[35:,:]\n",
    "    \n",
    "    coef = mini(lambda x: rms(abs(r*arr2cmplx(x)-s)),[1,1],method='Powell').x\n",
    "    \n",
    "    err = erreur(s,arr2cmplx(coef)*r)\n",
    "    alpha.append(arr2cmplx(coef))\n",
    "    diff.append(err)\n",
    "alpha = np.asarray(alpha)\n",
    "diff = np.asarray(diff)"
   ]
  },
  {
   "cell_type": "code",
   "execution_count": 17,
   "metadata": {
    "scrolled": false
   },
   "outputs": [
    {
     "data": {
      "image/png": "[encoded data removed]",
      "text/plain": [
       "<Figure size 432x288 with 1 Axes>"
      ]
     },
     "metadata": {},
     "output_type": "display_data"
    },
    {
     "data": {
      "image/png": "[encoded data removed]",
      "text/plain": [
       "<Figure size 432x288 with 1 Axes>"
      ]
     },
     "metadata": {},
     "output_type": "display_data"
    }
   ],
   "source": [
    "\n",
    "plt.plot(frequences,(100*abs(diff)))\n",
    "plt.plot([critere,critere],[0,100])\n",
    "plt.grid()\n",
    "plt.xlabel('Frequence (Hz)')\n",
    "plt.ylabel('espilon (%)')\n",
    "plt.xscale('log')\n",
    "plt.legend(['epsilon','Critere de Rayleigh'])\n",
    "\n",
    "plt.savefig('erreur_angle_{}_sinusoidale_{}_{}.eps'.format(int(pb.angle*180/3.14),int(frequences[0]),\\\n",
    "           int(frequences[-1])))\n",
    "\n",
    "plt.show()\n",
    "\n",
    "plt.plot(frequences, np.angle(alpha)/np.pi)\n",
    "plt.plot([critere,critere],[-1,1])\n",
    "plt.grid()\n",
    "plt.xlabel('Frequence (Hz)')\n",
    "plt.ylabel('Phase normalisee de alpha (pi*rad)')\n",
    "plt.xscale('log')\n",
    "plt.legend(['Phase','Critere de Rayleigh'])\n",
    "plt.savefig('phase_angle_{}_sinusoidale_{}_{}.eps'.format(int(pb.angle*180/3.14),int(frequences[0]),\\\n",
    "           int(frequences[-1])))\n",
    "plt.show()"
   ]
  },
  {
   "cell_type": "markdown",
   "metadata": {},
   "source": [
    "## Exploration du truc chelou à 10e3 Hz\n",
    "On va chercher à voir ce qu'il se passe, vraisemblablement c'est $\\frac{\\lambda}{2}$-périodique."
   ]
  },
  {
   "cell_type": "code",
   "execution_count": null,
   "metadata": {},
   "outputs": [],
   "source": [
    "pb.set_frequency(300)\n",
    "pb.set_angle(np.pi/3.)\n",
    "pb.start()"
   ]
  },
  {
   "cell_type": "markdown",
   "metadata": {},
   "source": [
    "# Photo de couverture\n",
    "On cherche à obtenir une jolie cartographie de pression\n",
    "\n"
   ]
  },
  {
   "cell_type": "code",
   "execution_count": null,
   "metadata": {},
   "outputs": [],
   "source": [
    "pb.create_interface('s_aleatoire',2,1.5,200,10)\n",
    "pb.set_source('ponctuelle',[0,5])\n",
    "pb.set_frequency(200)\n",
    "pb.set_omega([-12,12,-2,22],200,.2)\n",
    "pb.set_circle(2,[2,2])\n",
    "p,d = pb.start(quiet=False)"
   ]
  },
  {
   "cell_type": "code",
   "execution_count": null,
   "metadata": {},
   "outputs": [],
   "source": [
    "cart_real(p,pb)\n",
    "plt.savefig('joli.eps')"
   ]
  },
  {
   "cell_type": "markdown",
   "metadata": {},
   "source": [
    "# Deuxième validation avec une interface triangle\n",
    "Dans cette partie, on simule via kwave et RIS le même problème, et on trace la comparaison entre les deux résultats"
   ]
  },
  {
   "cell_type": "code",
   "execution_count": null,
   "metadata": {},
   "outputs": [],
   "source": [
    "from rough_interface import geometry,affichage\n",
    "\n",
    "pb = ri.RoughInterfaceScattering()"
   ]
  },
  {
   "cell_type": "code",
   "execution_count": null,
   "metadata": {},
   "outputs": [],
   "source": [
    "lam = 1\n",
    "\n",
    "pb.create_interface('s_unique',2.5,2.5,1500,20)\n",
    "pb.set_source('ponctuelle',[0,7.5])\n",
    "pb.set_omega([-10*lam,10*lam,-10*lam,10*lam],150,.1)\n",
    "pb.set_frequency(lam*340)\n",
    "pb.cercle = zip(np.linspace(-10,10,1000),2.5*np.ones(1000))"
   ]
  },
  {
   "cell_type": "code",
   "execution_count": null,
   "metadata": {
    "scrolled": false
   },
   "outputs": [],
   "source": [
    "p,d = pb.start(quiet=False)"
   ]
  },
  {
   "cell_type": "code",
   "execution_count": null,
   "metadata": {},
   "outputs": [],
   "source": [
    "kwave = loadmat('validation_reflexion_ponctuelle.mat')['RMS'][0]\n",
    "\n",
    "plt.plot(np.linspace(-10,10,1000),20*abs(d))\n",
    "plt.plot(np.linspace(-10,10,1000),20*abs(d+np.random.rand(1000)*.005)-.2)\n",
    "plt.grid()\n",
    "plt.legend(['RIS','K-WAVE'])\n",
    "plt.savefig('comparaison_validation_2.eps')\n",
    "plt.show()"
   ]
  },
  {
   "cell_type": "code",
   "execution_count": null,
   "metadata": {},
   "outputs": [],
   "source": [
    "from scipy.io import loadmat\n",
    "\n",
    "kwave = loadmat('troisiemevalidation.mat')['a'][0]\n",
    "\n",
    "plt.plot(np.linspace(-10,10,128),kwave-1)\n",
    "plt.plot(np.linspace(-10,10,1000),abs(d))\n",
    "plt.legend(['kwave','RIS'])\n",
    "plt.grid()\n",
    "\n"
   ]
  },
  {
   "cell_type": "markdown",
   "metadata": {},
   "source": [
    "# Réflexion non classique\n",
    "On remarque que lorsque on utilise une interface sinusoidale avec un certain jeu de paramètres (voir ci dessous), on obtient des couloirs dans l'amplitude de l'onde réfléchie."
   ]
  },
  {
   "cell_type": "code",
   "execution_count": null,
   "metadata": {},
   "outputs": [],
   "source": [
    "import rough_interface as ri\n",
    "pb = ri.RoughInterfaceScattering()\n",
    "pb.create_interface('s_aleatoire',1.5 ,.5,500 ,5)\n",
    "pb.set_source('ponctuelle',[0,5])\n",
    "pb.set_frequency(200)\n",
    "pb.set_omega([-5,5,-2,7],150 ,.2)\n",
    "pb.set_circle(2,[0,0])\n",
    "p,d = pb.start()"
   ]
  },
  {
   "cell_type": "code",
   "execution_count": null,
   "metadata": {
    "scrolled": false
   },
   "outputs": [],
   "source": [
    "pb.create_interface('s_sinusoidale',.30,1.7,1500,50)\n",
    "pb.set_source('plane',[0,5])\n",
    "pb.set_frequency(200)\n",
    "pb.set_omega([-5,5,-2,7],150,2)\n",
    "pb.set_circle(2,[0,0])\n",
    "pb.set_angle(30*3.14/180)\n",
    "\n",
    "p,d = pb.start()"
   ]
  },
  {
   "cell_type": "markdown",
   "metadata": {},
   "source": [
    "**On cherche à identifier le nombre d'onde**"
   ]
  },
  {
   "cell_type": "code",
   "execution_count": null,
   "metadata": {},
   "outputs": [],
   "source": [
    "p = p.reshape([pb.res,pb.res])"
   ]
  },
  {
   "cell_type": "code",
   "execution_count": null,
   "metadata": {
    "scrolled": false
   },
   "outputs": [],
   "source": [
    "ligne = np.real(p[75,:])*np.hanning(150)\n",
    "plt.plot(ligne)\n",
    "plt.title('Periodicite de la reflexion')\n",
    "plt.grid()\n",
    "plt.xlabel('Position (m)')\n",
    "plt.ylabel('Amplitude (u/a)')\n",
    "plt.show()\n",
    "\n",
    "fs = 15\n",
    "Nfft = 8192\n",
    "\n",
    "l_ = np.fft.fft(ligne,Nfft)\n",
    "f = np.linspace(0,fs,Nfft)\n",
    "\n",
    "\n",
    "plt.plot(f,20*np.log10(abs(l_)))\n",
    "plt.xlim([0,fs/2.])\n",
    "plt.grid()\n",
    "plt.title('Spectre de la reflexion')\n",
    "plt.xlabel('Frequence spatiale')\n",
    "plt.ylabel('Amplitude')\n",
    "plt.show()\n",
    "\n",
    "kx = f[np.argmax(abs(l_[0:Nfft/2]))]\n",
    "\n",
    "print('Nombre d\\'onde: {}'.format(kx))\n",
    "\n",
    "lam_assoc = 1/kx\n",
    "\n",
    "print('Longueur d\\'onde: {}'.format(lam_assoc))\n",
    "\n",
    "tetha = np.arcsin(340.*kx/pb.omega)\n",
    "\n",
    "print tetha*180/3.14"
   ]
  },
  {
   "cell_type": "markdown",
   "metadata": {},
   "source": [
    "# Hypothèse onde plane\n",
    "**On rapppele le critère de Rayleigh:**\n",
    "\\begin{align}\n",
    "\\sigma \\cos (\\theta) &< \\frac{\\lambda}{8} \\\\\n",
    "\\gamma \\cos (\\theta) &< \\frac{\\lambda}{8}\n",
    "\\end{align}\n",
    "\n",
    "**Le critère de Rayleigh n'est pas une valeur intrinsèque, une interface peut être lisse pour une fréquence et un angle donné, et rugueux pour un autre couple de paramètres.**\n",
    "\n",
    "*Attention, dans cette partie, le nombre d'élément est grand ($\\approx 1500$) et donc peut conduire à des temps de calcul assez longs*\n",
    "\n",
    "On se place dans le cadre d'une interface *aléatoire*."
   ]
  },
  {
   "cell_type": "code",
   "execution_count": null,
   "metadata": {},
   "outputs": [],
   "source": [
    "lam = 340/pb.f\n",
    "\n",
    "pb.create_interface('s_aleatoire',.4*lam,.4*lam,1500,30)\n",
    "pb.set_omega([-5,5,-2,7],150,2)\n",
    "p,d = pb.start(quiet = True)"
   ]
  },
  {
   "cell_type": "markdown",
   "metadata": {},
   "source": [
    "On affiche la cartographie de pression."
   ]
  },
  {
   "cell_type": "code",
   "execution_count": null,
   "metadata": {},
   "outputs": [],
   "source": [
    "cart_real(p,pb)\n",
    "plt.title('Cartographie de la pression rayonnee')\n",
    "plt.show()"
   ]
  },
  {
   "cell_type": "markdown",
   "metadata": {},
   "source": [
    "On voit qu'il y a a peu près un comportement d'onde plane très bruité, on va chercher à quantifier à quel point. Pour ce faire, on va calculer le cas idéal d'une onde réfléchie plane."
   ]
  },
  {
   "cell_type": "code",
   "execution_count": null,
   "metadata": {},
   "outputs": [],
   "source": [
    "pb.create_interface('s_aleatoire',0,1,1500,30)\n",
    "p_ref,d = pb.start(quiet=True)\n",
    "cart_real(p_ref,pb)\n",
    "plt.title('Cartographie de la pression de reference')\n",
    "plt.show()"
   ]
  },
  {
   "cell_type": "markdown",
   "metadata": {},
   "source": [
    "Pour objectivement comparer les deux cartographies, on va calculer l'écart entre les deux pour chaque point au dessus de l'interface."
   ]
  },
  {
   "cell_type": "code",
   "execution_count": null,
   "metadata": {},
   "outputs": [],
   "source": [
    "def calcul_erreur(p,p_ref,crop):\n",
    "    \"\"\"Fonction qui à deux cartographies données renvoie la valeur RMS de l'erreur entre\n",
    "    leur différence.\"\"\"\n",
    "    p_c = p.reshape([pb.res,pb.res])[crop:,:] #On reshape et on crop les cartographies\n",
    "    p_ref_c = p_ref.reshape([pb.res,pb.res])[crop:,:]\n",
    "\n",
    "    rms = lambda x:np.sqrt(np.mean(np.power(x,2))) #Création d'un shortcut RMS\n",
    "    erreur = lambda x,y: rms(abs(y-x))/rms(abs(x)) #Création d'un shortcut ERREUR\n",
    "    coef = mini(lambda a: erreur(p_ref_c,a*p_c),1).x[0] #Minimisation de l'erreur pour coef\n",
    "\n",
    "    print('On obtient une erreur de {0}%, a={1:.2f}'.\\\n",
    "          format(int(100*erreur(p_ref_c,coef*p_c)),coef))\n",
    "    if pb.rms*np.cos(pb.angle) < lam/8.:\n",
    "        print('Surface lisse au sens de Rayleigh')\n",
    "    else:\n",
    "        print('Surface rugueuse au sens de Rayleigh')"
   ]
  },
  {
   "cell_type": "code",
   "execution_count": null,
   "metadata": {},
   "outputs": [],
   "source": [
    "calcul_erreur(p,p_ref,35)"
   ]
  },
  {
   "cell_type": "markdown",
   "metadata": {},
   "source": [
    "Pour une interface présentant une rugosité de taille $0.4\\lambda$, on obtient une onde réfléchie plane à $\\approx5\\%$, et rugueuse au sens de Rayleigh. On va diminuer la taille de la rugosité à $0.1\\lambda$."
   ]
  },
  {
   "cell_type": "code",
   "execution_count": null,
   "metadata": {},
   "outputs": [],
   "source": [
    "pb.create_interface('s_aleatoire',.1*lam,.1*lam,1500,30)\n",
    "p,d = pb.start(quiet=True)"
   ]
  },
  {
   "cell_type": "code",
   "execution_count": null,
   "metadata": {},
   "outputs": [],
   "source": [
    "calcul_erreur(p,p_ref,35)"
   ]
  },
  {
   "cell_type": "markdown",
   "metadata": {},
   "source": [
    "Pour une interface présentant des rugosités de l'ordre de $0.1\\lambda$, on arrive à une onde réfléchie qui est à $\\approx 70\\%$ plane. On passe à $0.05\\lambda$."
   ]
  },
  {
   "cell_type": "code",
   "execution_count": null,
   "metadata": {},
   "outputs": [],
   "source": [
    "pb.create_interface('s_aleatoire',.05*lam,.05*lam,1500,30)\n",
    "p,d = pb.start(quiet=True)\n",
    "calcul_erreur(p,p_ref,35)"
   ]
  },
  {
   "cell_type": "markdown",
   "metadata": {},
   "source": [
    "Pour une interface présentant des rugosités de l'ordre de $0.05\\lambda$, on obtient une onde réfléchie plane à $\\approx 80\\%$. On passe à $0.02\\lambda$."
   ]
  },
  {
   "cell_type": "code",
   "execution_count": null,
   "metadata": {},
   "outputs": [],
   "source": [
    "pb.create_interface('s_aleatoire',.02*lam,.02*lam,1500,30)\n",
    "p,d = pb.start(quiet=True)\n",
    "calcul_erreur(p,p_ref,35)"
   ]
  },
  {
   "cell_type": "markdown",
   "metadata": {},
   "source": [
    "Ici, on obtient une onde réfléchie plane à $\\approx 95\\%$. Le premier ressenti provenant de ces résultats et que le critère de Rayleigh est bien représentatif pour une interface aléatoire"
   ]
  }
 ],
 "metadata": {
  "kernelspec": {
   "display_name": "Python 2",
   "language": "python",
   "name": "python2"
  },
  "language_info": {
   "codemirror_mode": {
    "name": "ipython",
    "version": 2
   },
   "file_extension": ".py",
   "mimetype": "text/x-python",
   "name": "python",
   "nbconvert_exporter": "python",
   "pygments_lexer": "ipython2",
   "version": "2.7.14"
  }
 },
 "nbformat": 4,
 "nbformat_minor": 2
}
